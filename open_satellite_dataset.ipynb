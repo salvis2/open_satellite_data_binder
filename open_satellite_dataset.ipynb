{
 "cells": [
  {
   "cell_type": "markdown",
   "metadata": {},
   "source": [
    "# Public Satellite Data\n",
    "\n",
    "This is a Binder to show and play with the \n",
    "<a href=\"https://www.ucsusa.org/resources/satellite-database\">\n",
    "    Union of Concerned Scientists Satellite Database.\n",
    "</a>"
   ]
  },
  {
   "cell_type": "code",
   "execution_count": 1,
   "metadata": {},
   "outputs": [],
   "source": [
    "import numpy as np\n",
    "import pandas as pd\n",
    "import matplotlib.pyplot as plt\n",
    "import datetime\n",
    "from datetime import timedelta\n",
    "\n",
    "%matplotlib inline"
   ]
  },
  {
   "cell_type": "markdown",
   "metadata": {},
   "source": [
    "## Data Wrangling\n",
    "\n",
    "Aka Import and Cleaning"
   ]
  },
  {
   "cell_type": "code",
   "execution_count": 2,
   "metadata": {},
   "outputs": [
    {
     "name": "stdout",
     "output_type": "stream",
     "text": [
      "Rows: 2062\n",
      "Columns: 254\n"
     ]
    },
    {
     "data": {
      "text/html": [
       "<div>\n",
       "<style scoped>\n",
       "    .dataframe tbody tr th:only-of-type {\n",
       "        vertical-align: middle;\n",
       "    }\n",
       "\n",
       "    .dataframe tbody tr th {\n",
       "        vertical-align: top;\n",
       "    }\n",
       "\n",
       "    .dataframe thead th {\n",
       "        text-align: right;\n",
       "    }\n",
       "</style>\n",
       "<table border=\"1\" class=\"dataframe\">\n",
       "  <thead>\n",
       "    <tr style=\"text-align: right;\">\n",
       "      <th></th>\n",
       "      <th>Name of Satellite, Alternate Names</th>\n",
       "      <th>Country/Org of UN Registry</th>\n",
       "      <th>Country of Operator/Owner</th>\n",
       "      <th>Operator/Owner</th>\n",
       "      <th>Users</th>\n",
       "      <th>Purpose</th>\n",
       "      <th>Detailed Purpose</th>\n",
       "      <th>Class of Orbit</th>\n",
       "      <th>Type of Orbit</th>\n",
       "      <th>Longitude of GEO (degrees)</th>\n",
       "      <th>...</th>\n",
       "      <th>Unnamed: 244</th>\n",
       "      <th>Unnamed: 245</th>\n",
       "      <th>Unnamed: 246</th>\n",
       "      <th>Unnamed: 247</th>\n",
       "      <th>Unnamed: 248</th>\n",
       "      <th>Unnamed: 249</th>\n",
       "      <th>Unnamed: 250</th>\n",
       "      <th>Unnamed: 251</th>\n",
       "      <th>Unnamed: 252</th>\n",
       "      <th>Unnamed: 253</th>\n",
       "    </tr>\n",
       "  </thead>\n",
       "  <tbody>\n",
       "    <tr>\n",
       "      <th>0</th>\n",
       "      <td>3Cat-1</td>\n",
       "      <td>NR (11/18)</td>\n",
       "      <td>Spain</td>\n",
       "      <td>Universitat Politècnica de Catalunya</td>\n",
       "      <td>Civil</td>\n",
       "      <td>Technology Development</td>\n",
       "      <td>NaN</td>\n",
       "      <td>LEO</td>\n",
       "      <td>NaN</td>\n",
       "      <td>0.0</td>\n",
       "      <td>...</td>\n",
       "      <td>NaN</td>\n",
       "      <td>NaN</td>\n",
       "      <td>NaN</td>\n",
       "      <td>NaN</td>\n",
       "      <td>NaN</td>\n",
       "      <td>NaN</td>\n",
       "      <td>NaN</td>\n",
       "      <td>NaN</td>\n",
       "      <td>NaN</td>\n",
       "      <td>NaN</td>\n",
       "    </tr>\n",
       "    <tr>\n",
       "      <th>1</th>\n",
       "      <td>Aalto-1</td>\n",
       "      <td>Finland</td>\n",
       "      <td>Finland</td>\n",
       "      <td>University of Aalto</td>\n",
       "      <td>Civil</td>\n",
       "      <td>Technology Development</td>\n",
       "      <td>NaN</td>\n",
       "      <td>LEO</td>\n",
       "      <td>NaN</td>\n",
       "      <td>0.0</td>\n",
       "      <td>...</td>\n",
       "      <td>NaN</td>\n",
       "      <td>NaN</td>\n",
       "      <td>NaN</td>\n",
       "      <td>NaN</td>\n",
       "      <td>NaN</td>\n",
       "      <td>NaN</td>\n",
       "      <td>NaN</td>\n",
       "      <td>NaN</td>\n",
       "      <td>NaN</td>\n",
       "      <td>NaN</td>\n",
       "    </tr>\n",
       "    <tr>\n",
       "      <th>2</th>\n",
       "      <td>AAUSat-4</td>\n",
       "      <td>Denmark</td>\n",
       "      <td>Denmark</td>\n",
       "      <td>University of Aalborg</td>\n",
       "      <td>Civil</td>\n",
       "      <td>Earth Observation</td>\n",
       "      <td>Automatic Identification System (AIS)</td>\n",
       "      <td>LEO</td>\n",
       "      <td>Sun-Synchronous</td>\n",
       "      <td>0.0</td>\n",
       "      <td>...</td>\n",
       "      <td>NaN</td>\n",
       "      <td>NaN</td>\n",
       "      <td>NaN</td>\n",
       "      <td>NaN</td>\n",
       "      <td>NaN</td>\n",
       "      <td>NaN</td>\n",
       "      <td>NaN</td>\n",
       "      <td>NaN</td>\n",
       "      <td>NaN</td>\n",
       "      <td>NaN</td>\n",
       "    </tr>\n",
       "    <tr>\n",
       "      <th>3</th>\n",
       "      <td>ABS-2 (Koreasat-8, ST-3)</td>\n",
       "      <td>NR</td>\n",
       "      <td>Multinational</td>\n",
       "      <td>Asia Broadcast Satellite Ltd.</td>\n",
       "      <td>Commercial</td>\n",
       "      <td>Communications</td>\n",
       "      <td>NaN</td>\n",
       "      <td>GEO</td>\n",
       "      <td>NaN</td>\n",
       "      <td>75.0</td>\n",
       "      <td>...</td>\n",
       "      <td>NaN</td>\n",
       "      <td>NaN</td>\n",
       "      <td>NaN</td>\n",
       "      <td>NaN</td>\n",
       "      <td>NaN</td>\n",
       "      <td>NaN</td>\n",
       "      <td>NaN</td>\n",
       "      <td>NaN</td>\n",
       "      <td>NaN</td>\n",
       "      <td>NaN</td>\n",
       "    </tr>\n",
       "    <tr>\n",
       "      <th>4</th>\n",
       "      <td>ABS-2A</td>\n",
       "      <td>NR</td>\n",
       "      <td>Multinational</td>\n",
       "      <td>Asia Broadcast Satellite Ltd.</td>\n",
       "      <td>Commercial</td>\n",
       "      <td>Communications</td>\n",
       "      <td>NaN</td>\n",
       "      <td>GEO</td>\n",
       "      <td>NaN</td>\n",
       "      <td>-75.0</td>\n",
       "      <td>...</td>\n",
       "      <td>NaN</td>\n",
       "      <td>NaN</td>\n",
       "      <td>NaN</td>\n",
       "      <td>NaN</td>\n",
       "      <td>NaN</td>\n",
       "      <td>NaN</td>\n",
       "      <td>NaN</td>\n",
       "      <td>NaN</td>\n",
       "      <td>NaN</td>\n",
       "      <td>NaN</td>\n",
       "    </tr>\n",
       "  </tbody>\n",
       "</table>\n",
       "<p>5 rows × 254 columns</p>\n",
       "</div>"
      ],
      "text/plain": [
       "  Name of Satellite, Alternate Names Country/Org of UN Registry  \\\n",
       "0                             3Cat-1                 NR (11/18)   \n",
       "1                           Aalto-1                     Finland   \n",
       "2                           AAUSat-4                    Denmark   \n",
       "3           ABS-2 (Koreasat-8, ST-3)                         NR   \n",
       "4                             ABS-2A                         NR   \n",
       "\n",
       "  Country of Operator/Owner                        Operator/Owner       Users  \\\n",
       "0                     Spain  Universitat Politècnica de Catalunya       Civil   \n",
       "1                   Finland                   University of Aalto       Civil   \n",
       "2                   Denmark                 University of Aalborg       Civil   \n",
       "3             Multinational         Asia Broadcast Satellite Ltd.  Commercial   \n",
       "4             Multinational         Asia Broadcast Satellite Ltd.  Commercial   \n",
       "\n",
       "                  Purpose                       Detailed Purpose  \\\n",
       "0  Technology Development                                    NaN   \n",
       "1  Technology Development                                    NaN   \n",
       "2       Earth Observation  Automatic Identification System (AIS)   \n",
       "3          Communications                                    NaN   \n",
       "4          Communications                                    NaN   \n",
       "\n",
       "  Class of Orbit    Type of Orbit  Longitude of GEO (degrees)  ...  \\\n",
       "0            LEO              NaN                         0.0  ...   \n",
       "1            LEO              NaN                         0.0  ...   \n",
       "2            LEO  Sun-Synchronous                         0.0  ...   \n",
       "3            GEO              NaN                        75.0  ...   \n",
       "4            GEO              NaN                       -75.0  ...   \n",
       "\n",
       "  Unnamed: 244 Unnamed: 245  Unnamed: 246  Unnamed: 247 Unnamed: 248  \\\n",
       "0          NaN          NaN           NaN           NaN          NaN   \n",
       "1          NaN          NaN           NaN           NaN          NaN   \n",
       "2          NaN          NaN           NaN           NaN          NaN   \n",
       "3          NaN          NaN           NaN           NaN          NaN   \n",
       "4          NaN          NaN           NaN           NaN          NaN   \n",
       "\n",
       "  Unnamed: 249 Unnamed: 250 Unnamed: 251 Unnamed: 252  Unnamed: 253  \n",
       "0          NaN          NaN          NaN          NaN           NaN  \n",
       "1          NaN          NaN          NaN          NaN           NaN  \n",
       "2          NaN          NaN          NaN          NaN           NaN  \n",
       "3          NaN          NaN          NaN          NaN           NaN  \n",
       "4          NaN          NaN          NaN          NaN           NaN  \n",
       "\n",
       "[5 rows x 254 columns]"
      ]
     },
     "execution_count": 2,
     "metadata": {},
     "output_type": "execute_result"
    }
   ],
   "source": [
    "data_url = 'https://s3.amazonaws.com/ucs-documents/nuclear-weapons/sat-database/5-9-19-update/UCS_Satellite_Database_4-1-2019.txt'\n",
    "df = pd.read_csv(data_url, sep='\\t', header=0, encoding=\"ISO-8859-1\", parse_dates=[18])\n",
    "print(\"Rows: %d\" % len(df))\n",
    "print(\"Columns: %d\" % len(df.columns))\n",
    "df.head()"
   ]
  },
  {
   "cell_type": "code",
   "execution_count": 3,
   "metadata": {},
   "outputs": [
    {
     "name": "stdout",
     "output_type": "stream",
     "text": [
      "<class 'pandas.core.frame.DataFrame'>\n",
      "RangeIndex: 2062 entries, 0 to 2061\n",
      "Columns: 254 entries, Name of Satellite, Alternate Names to Unnamed: 253\n",
      "dtypes: datetime64[ns](1), float64(219), int64(1), object(33)\n",
      "memory usage: 4.0+ MB\n"
     ]
    }
   ],
   "source": [
    "df.info()"
   ]
  },
  {
   "cell_type": "markdown",
   "metadata": {},
   "source": [
    "### Clean Data"
   ]
  },
  {
   "cell_type": "code",
   "execution_count": 4,
   "metadata": {},
   "outputs": [
    {
     "name": "stdout",
     "output_type": "stream",
     "text": [
      "Rows: 2062\n",
      "Columns: 39\n"
     ]
    },
    {
     "data": {
      "text/html": [
       "<div>\n",
       "<style scoped>\n",
       "    .dataframe tbody tr th:only-of-type {\n",
       "        vertical-align: middle;\n",
       "    }\n",
       "\n",
       "    .dataframe tbody tr th {\n",
       "        vertical-align: top;\n",
       "    }\n",
       "\n",
       "    .dataframe thead th {\n",
       "        text-align: right;\n",
       "    }\n",
       "</style>\n",
       "<table border=\"1\" class=\"dataframe\">\n",
       "  <thead>\n",
       "    <tr style=\"text-align: right;\">\n",
       "      <th></th>\n",
       "      <th>Name of Satellite, Alternate Names</th>\n",
       "      <th>Country/Org of UN Registry</th>\n",
       "      <th>Country of Operator/Owner</th>\n",
       "      <th>Operator/Owner</th>\n",
       "      <th>Users</th>\n",
       "      <th>Purpose</th>\n",
       "      <th>Detailed Purpose</th>\n",
       "      <th>Class of Orbit</th>\n",
       "      <th>Type of Orbit</th>\n",
       "      <th>Longitude of GEO (degrees)</th>\n",
       "      <th>...</th>\n",
       "      <th>Source</th>\n",
       "      <th>Source.1</th>\n",
       "      <th>Source.2</th>\n",
       "      <th>Source.3</th>\n",
       "      <th>Source.4</th>\n",
       "      <th>Source.5</th>\n",
       "      <th>Unnamed: 58</th>\n",
       "      <th>Unnamed: 59</th>\n",
       "      <th>Unnamed: 60</th>\n",
       "      <th>Unnamed: 64</th>\n",
       "    </tr>\n",
       "  </thead>\n",
       "  <tbody>\n",
       "    <tr>\n",
       "      <th>0</th>\n",
       "      <td>3Cat-1</td>\n",
       "      <td>NR (11/18)</td>\n",
       "      <td>Spain</td>\n",
       "      <td>Universitat Politècnica de Catalunya</td>\n",
       "      <td>Civil</td>\n",
       "      <td>Technology Development</td>\n",
       "      <td>NaN</td>\n",
       "      <td>LEO</td>\n",
       "      <td>NaN</td>\n",
       "      <td>0.0</td>\n",
       "      <td>...</td>\n",
       "      <td>https://spaceflightnow.com/2018/11/29/indian-r...</td>\n",
       "      <td>NaN</td>\n",
       "      <td>NaN</td>\n",
       "      <td>NaN</td>\n",
       "      <td>NaN</td>\n",
       "      <td>NaN</td>\n",
       "      <td>NaN</td>\n",
       "      <td>NaN</td>\n",
       "      <td>NaN</td>\n",
       "      <td>NaN</td>\n",
       "    </tr>\n",
       "    <tr>\n",
       "      <th>1</th>\n",
       "      <td>Aalto-1</td>\n",
       "      <td>Finland</td>\n",
       "      <td>Finland</td>\n",
       "      <td>University of Aalto</td>\n",
       "      <td>Civil</td>\n",
       "      <td>Technology Development</td>\n",
       "      <td>NaN</td>\n",
       "      <td>LEO</td>\n",
       "      <td>NaN</td>\n",
       "      <td>0.0</td>\n",
       "      <td>...</td>\n",
       "      <td>https://directory.eoportal.org/web/eoportal/sa...</td>\n",
       "      <td>http://www.planet4589.org/space/log/satcat.txt</td>\n",
       "      <td>NaN</td>\n",
       "      <td>NaN</td>\n",
       "      <td>NaN</td>\n",
       "      <td>NaN</td>\n",
       "      <td>NaN</td>\n",
       "      <td>NaN</td>\n",
       "      <td>NaN</td>\n",
       "      <td>NaN</td>\n",
       "    </tr>\n",
       "    <tr>\n",
       "      <th>2</th>\n",
       "      <td>AAUSat-4</td>\n",
       "      <td>Denmark</td>\n",
       "      <td>Denmark</td>\n",
       "      <td>University of Aalborg</td>\n",
       "      <td>Civil</td>\n",
       "      <td>Earth Observation</td>\n",
       "      <td>Automatic Identification System (AIS)</td>\n",
       "      <td>LEO</td>\n",
       "      <td>Sun-Synchronous</td>\n",
       "      <td>0.0</td>\n",
       "      <td>...</td>\n",
       "      <td>http://spaceflightnow.com/2016/04/26/soyuz-bla...</td>\n",
       "      <td>http://space50.org/objekt.php?mot=2016-025E&amp;ja...</td>\n",
       "      <td>NaN</td>\n",
       "      <td>NaN</td>\n",
       "      <td>NaN</td>\n",
       "      <td>NaN</td>\n",
       "      <td>NaN</td>\n",
       "      <td>NaN</td>\n",
       "      <td>NaN</td>\n",
       "      <td>NaN</td>\n",
       "    </tr>\n",
       "    <tr>\n",
       "      <th>3</th>\n",
       "      <td>ABS-2 (Koreasat-8, ST-3)</td>\n",
       "      <td>NR</td>\n",
       "      <td>Multinational</td>\n",
       "      <td>Asia Broadcast Satellite Ltd.</td>\n",
       "      <td>Commercial</td>\n",
       "      <td>Communications</td>\n",
       "      <td>NaN</td>\n",
       "      <td>GEO</td>\n",
       "      <td>NaN</td>\n",
       "      <td>75.0</td>\n",
       "      <td>...</td>\n",
       "      <td>http://www.absatellite.net/satellite-fleet/?sa...</td>\n",
       "      <td>http://www.zarya.info/Diaries/Launches/Launche...</td>\n",
       "      <td>http://www.absatellite.net/2010/10/13/asia-bro...</td>\n",
       "      <td>http://www.spacenews.com/article/satellite-tel...</td>\n",
       "      <td>NaN</td>\n",
       "      <td>NaN</td>\n",
       "      <td>NaN</td>\n",
       "      <td>NaN</td>\n",
       "      <td>NaN</td>\n",
       "      <td>NaN</td>\n",
       "    </tr>\n",
       "    <tr>\n",
       "      <th>4</th>\n",
       "      <td>ABS-2A</td>\n",
       "      <td>NR</td>\n",
       "      <td>Multinational</td>\n",
       "      <td>Asia Broadcast Satellite Ltd.</td>\n",
       "      <td>Commercial</td>\n",
       "      <td>Communications</td>\n",
       "      <td>NaN</td>\n",
       "      <td>GEO</td>\n",
       "      <td>NaN</td>\n",
       "      <td>-75.0</td>\n",
       "      <td>...</td>\n",
       "      <td>NaN</td>\n",
       "      <td>NaN</td>\n",
       "      <td>NaN</td>\n",
       "      <td>NaN</td>\n",
       "      <td>NaN</td>\n",
       "      <td>NaN</td>\n",
       "      <td>NaN</td>\n",
       "      <td>NaN</td>\n",
       "      <td>NaN</td>\n",
       "      <td>NaN</td>\n",
       "    </tr>\n",
       "  </tbody>\n",
       "</table>\n",
       "<p>5 rows × 39 columns</p>\n",
       "</div>"
      ],
      "text/plain": [
       "  Name of Satellite, Alternate Names Country/Org of UN Registry  \\\n",
       "0                             3Cat-1                 NR (11/18)   \n",
       "1                           Aalto-1                     Finland   \n",
       "2                           AAUSat-4                    Denmark   \n",
       "3           ABS-2 (Koreasat-8, ST-3)                         NR   \n",
       "4                             ABS-2A                         NR   \n",
       "\n",
       "  Country of Operator/Owner                        Operator/Owner       Users  \\\n",
       "0                     Spain  Universitat Politècnica de Catalunya       Civil   \n",
       "1                   Finland                   University of Aalto       Civil   \n",
       "2                   Denmark                 University of Aalborg       Civil   \n",
       "3             Multinational         Asia Broadcast Satellite Ltd.  Commercial   \n",
       "4             Multinational         Asia Broadcast Satellite Ltd.  Commercial   \n",
       "\n",
       "                  Purpose                       Detailed Purpose  \\\n",
       "0  Technology Development                                    NaN   \n",
       "1  Technology Development                                    NaN   \n",
       "2       Earth Observation  Automatic Identification System (AIS)   \n",
       "3          Communications                                    NaN   \n",
       "4          Communications                                    NaN   \n",
       "\n",
       "  Class of Orbit    Type of Orbit  Longitude of GEO (degrees)  ...  \\\n",
       "0            LEO              NaN                         0.0  ...   \n",
       "1            LEO              NaN                         0.0  ...   \n",
       "2            LEO  Sun-Synchronous                         0.0  ...   \n",
       "3            GEO              NaN                        75.0  ...   \n",
       "4            GEO              NaN                       -75.0  ...   \n",
       "\n",
       "                                              Source  \\\n",
       "0  https://spaceflightnow.com/2018/11/29/indian-r...   \n",
       "1  https://directory.eoportal.org/web/eoportal/sa...   \n",
       "2  http://spaceflightnow.com/2016/04/26/soyuz-bla...   \n",
       "3  http://www.absatellite.net/satellite-fleet/?sa...   \n",
       "4                                                NaN   \n",
       "\n",
       "                                            Source.1  \\\n",
       "0                                                NaN   \n",
       "1     http://www.planet4589.org/space/log/satcat.txt   \n",
       "2  http://space50.org/objekt.php?mot=2016-025E&ja...   \n",
       "3  http://www.zarya.info/Diaries/Launches/Launche...   \n",
       "4                                                NaN   \n",
       "\n",
       "                                            Source.2  \\\n",
       "0                                                NaN   \n",
       "1                                                NaN   \n",
       "2                                                NaN   \n",
       "3  http://www.absatellite.net/2010/10/13/asia-bro...   \n",
       "4                                                NaN   \n",
       "\n",
       "                                            Source.3 Source.4 Source.5  \\\n",
       "0                                                NaN      NaN      NaN   \n",
       "1                                                NaN      NaN      NaN   \n",
       "2                                                NaN      NaN      NaN   \n",
       "3  http://www.spacenews.com/article/satellite-tel...      NaN      NaN   \n",
       "4                                                NaN      NaN      NaN   \n",
       "\n",
       "  Unnamed: 58 Unnamed: 59 Unnamed: 60  Unnamed: 64  \n",
       "0         NaN         NaN         NaN          NaN  \n",
       "1         NaN         NaN         NaN          NaN  \n",
       "2         NaN         NaN         NaN          NaN  \n",
       "3         NaN         NaN         NaN          NaN  \n",
       "4         NaN         NaN         NaN          NaN  \n",
       "\n",
       "[5 rows x 39 columns]"
      ]
     },
     "execution_count": 4,
     "metadata": {},
     "output_type": "execute_result"
    }
   ],
   "source": [
    "df = df.dropna(axis=1, how='all')\n",
    "print(\"Rows: %d\" % len(df))\n",
    "print(\"Columns: %d\" % len(df.columns))\n",
    "df.head()"
   ]
  },
  {
   "cell_type": "markdown",
   "metadata": {},
   "source": [
    "### Investigation (can skip)\n",
    "\n",
    "Why are there 5 source columns? Can I just merge them?\n",
    "\n",
    "Why did some unnamed columns survive?"
   ]
  },
  {
   "cell_type": "code",
   "execution_count": null,
   "metadata": {},
   "outputs": [],
   "source": [
    "df.iloc[:,-9:]"
   ]
  },
  {
   "cell_type": "code",
   "execution_count": null,
   "metadata": {},
   "outputs": [],
   "source": [
    "def return_value_counts(df, col):\n",
    "    return df[col].value_counts()"
   ]
  },
  {
   "cell_type": "code",
   "execution_count": null,
   "metadata": {},
   "outputs": [],
   "source": [
    "return_value_counts(df, 'Source.5')"
   ]
  },
  {
   "cell_type": "code",
   "execution_count": null,
   "metadata": {},
   "outputs": [],
   "source": [
    "return_value_counts(df, 'Unnamed: 58')"
   ]
  },
  {
   "cell_type": "markdown",
   "metadata": {},
   "source": [
    "Let's see if the rows that have Source 5 also have the unnamed entries.\n",
    "\n",
    "No entry that uses Source 5 uses any of the remaining Unnamed columns"
   ]
  },
  {
   "cell_type": "code",
   "execution_count": null,
   "metadata": {},
   "outputs": [],
   "source": [
    "df.loc[df[\"Source.5\"].notna()]"
   ]
  },
  {
   "cell_type": "markdown",
   "metadata": {},
   "source": [
    "Let's check the inverse\n",
    "\n",
    "Okay. All of these are links / sources. There is not enough space to move them sideways into the empty source columns, actually.\n",
    "\n",
    "Checking Unnamed 58 and 59 yield the same rows. 60 and 64 are subsets of 58 and 59.\n",
    "\n",
    "If JM/304 and JMSatcat84 don't mean anything, then I can scrap the last column and shuffle over the rest of the links with no problems."
   ]
  },
  {
   "cell_type": "code",
   "execution_count": null,
   "metadata": {},
   "outputs": [],
   "source": [
    "df.loc[df[\"Unnamed: 58\"].notna()]"
   ]
  },
  {
   "cell_type": "code",
   "execution_count": null,
   "metadata": {},
   "outputs": [],
   "source": [
    "df.loc[df[\"Unnamed: 64\"].notna()]"
   ]
  },
  {
   "cell_type": "code",
   "execution_count": null,
   "metadata": {},
   "outputs": [],
   "source": [
    "df.loc[940]"
   ]
  },
  {
   "cell_type": "code",
   "execution_count": null,
   "metadata": {},
   "outputs": [],
   "source": [
    "df.info()"
   ]
  },
  {
   "cell_type": "markdown",
   "metadata": {},
   "source": [
    "### Back to data cleaning\n",
    "\n",
    "Will need to reformat some columns to remove commas. The commas prevent recasting to float."
   ]
  },
  {
   "cell_type": "code",
   "execution_count": 5,
   "metadata": {},
   "outputs": [],
   "source": [
    "# Can't do \"Power (watts)\" because there are letters in at least one entry\n",
    "# Can't do \"Dry Mass (kg.)\" because there is a range in at least one entry\n",
    "cols_to_un_comma = [\"Perigee (km)\", \"Apogee (km)\", \"Period (minutes)\", \"Launch Mass (kg.)\"]\n",
    "\n",
    "for col in cols_to_un_comma:\n",
    "    df.loc[:, col] = df[col].str.replace(',', '').astype(float)"
   ]
  },
  {
   "cell_type": "code",
   "execution_count": 6,
   "metadata": {},
   "outputs": [
    {
     "name": "stdout",
     "output_type": "stream",
     "text": [
      "<class 'pandas.core.frame.DataFrame'>\n",
      "RangeIndex: 2062 entries, 0 to 2061\n",
      "Data columns (total 39 columns):\n",
      "Name of Satellite, Alternate Names    2062 non-null object\n",
      "Country/Org of UN Registry            2062 non-null object\n",
      "Country of Operator/Owner             2062 non-null object\n",
      "Operator/Owner                        2062 non-null object\n",
      "Users                                 2062 non-null object\n",
      "Purpose                               2062 non-null object\n",
      "Detailed Purpose                      790 non-null object\n",
      "Class of Orbit                        2062 non-null object\n",
      "Type of Orbit                         1457 non-null object\n",
      "Longitude of GEO (degrees)            2062 non-null float64\n",
      "Perigee (km)                          2062 non-null float64\n",
      "Apogee (km)                           2062 non-null float64\n",
      "Eccentricity                          2062 non-null float64\n",
      "Inclination (degrees)                 2062 non-null float64\n",
      "Period (minutes)                      2062 non-null float64\n",
      "Launch Mass (kg.)                     1904 non-null float64\n",
      "Dry Mass (kg.)                        461 non-null object\n",
      "Power (watts)                         614 non-null object\n",
      "Date of Launch                        2062 non-null datetime64[ns]\n",
      "Expected Lifetime (yrs.)              1124 non-null float64\n",
      "Contractor                            2062 non-null object\n",
      "Country of Contractor                 2062 non-null object\n",
      "Launch Site                           2062 non-null object\n",
      "Launch Vehicle                        2062 non-null object\n",
      "COSPAR Number                         2062 non-null object\n",
      "NORAD Number                          2062 non-null int64\n",
      "Comments                              1343 non-null object\n",
      "Unnamed: 27                           4 non-null object\n",
      "Source Used for Orbital Data          1908 non-null object\n",
      "Source                                1989 non-null object\n",
      "Source.1                              1440 non-null object\n",
      "Source.2                              723 non-null object\n",
      "Source.3                              287 non-null object\n",
      "Source.4                              86 non-null object\n",
      "Source.5                              21 non-null object\n",
      "Unnamed: 58                           4 non-null object\n",
      "Unnamed: 59                           4 non-null object\n",
      "Unnamed: 60                           3 non-null object\n",
      "Unnamed: 64                           3 non-null object\n",
      "dtypes: datetime64[ns](1), float64(8), int64(1), object(29)\n",
      "memory usage: 628.4+ KB\n"
     ]
    }
   ],
   "source": [
    "df.info()"
   ]
  },
  {
   "cell_type": "markdown",
   "metadata": {},
   "source": [
    "### Fix the Users column\n",
    "\n",
    "This should be a set of categorical columns. 0 or 1 for each of Commercial, Government, Military, Civil"
   ]
  },
  {
   "cell_type": "code",
   "execution_count": 7,
   "metadata": {},
   "outputs": [
    {
     "data": {
      "text/plain": [
       "array(['Civil', 'Commercial', 'Military', 'Government',\n",
       "       'Military/Commercial', 'Government/Civil', 'Government/Military',\n",
       "       'Military/Government', 'Military/Civil', 'Civil/Government',\n",
       "       'Government/Commercial', 'Commercial/Government',\n",
       "       'Government/Commercial/Military', 'Commercial ',\n",
       "       'Commercial/Military', 'Military '], dtype=object)"
      ]
     },
     "execution_count": 7,
     "metadata": {},
     "output_type": "execute_result"
    }
   ],
   "source": [
    "df.Users.unique()"
   ]
  },
  {
   "cell_type": "code",
   "execution_count": 8,
   "metadata": {},
   "outputs": [],
   "source": [
    "user_types = ['Civil', 'Commercial', 'Military', 'Government']"
   ]
  },
  {
   "cell_type": "code",
   "execution_count": 9,
   "metadata": {},
   "outputs": [
    {
     "data": {
      "text/plain": [
       "['Civil_user', 'Commercial_user', 'Military_user', 'Government_user']"
      ]
     },
     "execution_count": 9,
     "metadata": {},
     "output_type": "execute_result"
    }
   ],
   "source": [
    "user_col_names = []\n",
    "\n",
    "for user_type in user_types:\n",
    "    user_col_names.append(user_type + '_user')\n",
    "\n",
    "user_col_names"
   ]
  },
  {
   "cell_type": "code",
   "execution_count": 10,
   "metadata": {},
   "outputs": [],
   "source": [
    "for user_type in user_types:\n",
    "    col_name = user_type + '_user'\n",
    "    df.loc[:, col_name] = df.loc[:, 'Users'].str.contains(user_type)"
   ]
  },
  {
   "cell_type": "code",
   "execution_count": 11,
   "metadata": {},
   "outputs": [
    {
     "data": {
      "text/html": [
       "<div>\n",
       "<style scoped>\n",
       "    .dataframe tbody tr th:only-of-type {\n",
       "        vertical-align: middle;\n",
       "    }\n",
       "\n",
       "    .dataframe tbody tr th {\n",
       "        vertical-align: top;\n",
       "    }\n",
       "\n",
       "    .dataframe thead th {\n",
       "        text-align: right;\n",
       "    }\n",
       "</style>\n",
       "<table border=\"1\" class=\"dataframe\">\n",
       "  <thead>\n",
       "    <tr style=\"text-align: right;\">\n",
       "      <th></th>\n",
       "      <th>Users</th>\n",
       "      <th>Civil_user</th>\n",
       "      <th>Commercial_user</th>\n",
       "      <th>Military_user</th>\n",
       "      <th>Government_user</th>\n",
       "    </tr>\n",
       "  </thead>\n",
       "  <tbody>\n",
       "    <tr>\n",
       "      <th>2042</th>\n",
       "      <td>Military</td>\n",
       "      <td>False</td>\n",
       "      <td>False</td>\n",
       "      <td>True</td>\n",
       "      <td>False</td>\n",
       "    </tr>\n",
       "    <tr>\n",
       "      <th>2043</th>\n",
       "      <td>Commercial</td>\n",
       "      <td>False</td>\n",
       "      <td>True</td>\n",
       "      <td>False</td>\n",
       "      <td>False</td>\n",
       "    </tr>\n",
       "    <tr>\n",
       "      <th>2044</th>\n",
       "      <td>Military</td>\n",
       "      <td>False</td>\n",
       "      <td>False</td>\n",
       "      <td>True</td>\n",
       "      <td>False</td>\n",
       "    </tr>\n",
       "    <tr>\n",
       "      <th>2045</th>\n",
       "      <td>Military/Government</td>\n",
       "      <td>False</td>\n",
       "      <td>False</td>\n",
       "      <td>True</td>\n",
       "      <td>True</td>\n",
       "    </tr>\n",
       "    <tr>\n",
       "      <th>2046</th>\n",
       "      <td>Government/Commercial</td>\n",
       "      <td>False</td>\n",
       "      <td>True</td>\n",
       "      <td>False</td>\n",
       "      <td>True</td>\n",
       "    </tr>\n",
       "    <tr>\n",
       "      <th>2047</th>\n",
       "      <td>Government/Commercial</td>\n",
       "      <td>False</td>\n",
       "      <td>True</td>\n",
       "      <td>False</td>\n",
       "      <td>True</td>\n",
       "    </tr>\n",
       "    <tr>\n",
       "      <th>2048</th>\n",
       "      <td>Government/Commercial</td>\n",
       "      <td>False</td>\n",
       "      <td>True</td>\n",
       "      <td>False</td>\n",
       "      <td>True</td>\n",
       "    </tr>\n",
       "    <tr>\n",
       "      <th>2049</th>\n",
       "      <td>Government/Commercial</td>\n",
       "      <td>False</td>\n",
       "      <td>True</td>\n",
       "      <td>False</td>\n",
       "      <td>True</td>\n",
       "    </tr>\n",
       "    <tr>\n",
       "      <th>2050</th>\n",
       "      <td>Government</td>\n",
       "      <td>False</td>\n",
       "      <td>False</td>\n",
       "      <td>False</td>\n",
       "      <td>True</td>\n",
       "    </tr>\n",
       "    <tr>\n",
       "      <th>2051</th>\n",
       "      <td>Government/Commercial</td>\n",
       "      <td>False</td>\n",
       "      <td>True</td>\n",
       "      <td>False</td>\n",
       "      <td>True</td>\n",
       "    </tr>\n",
       "    <tr>\n",
       "      <th>2052</th>\n",
       "      <td>Commercial</td>\n",
       "      <td>False</td>\n",
       "      <td>True</td>\n",
       "      <td>False</td>\n",
       "      <td>False</td>\n",
       "    </tr>\n",
       "    <tr>\n",
       "      <th>2053</th>\n",
       "      <td>Commercial</td>\n",
       "      <td>False</td>\n",
       "      <td>True</td>\n",
       "      <td>False</td>\n",
       "      <td>False</td>\n",
       "    </tr>\n",
       "    <tr>\n",
       "      <th>2054</th>\n",
       "      <td>Commercial</td>\n",
       "      <td>False</td>\n",
       "      <td>True</td>\n",
       "      <td>False</td>\n",
       "      <td>False</td>\n",
       "    </tr>\n",
       "    <tr>\n",
       "      <th>2055</th>\n",
       "      <td>Commercial</td>\n",
       "      <td>False</td>\n",
       "      <td>True</td>\n",
       "      <td>False</td>\n",
       "      <td>False</td>\n",
       "    </tr>\n",
       "    <tr>\n",
       "      <th>2056</th>\n",
       "      <td>Commercial</td>\n",
       "      <td>False</td>\n",
       "      <td>True</td>\n",
       "      <td>False</td>\n",
       "      <td>False</td>\n",
       "    </tr>\n",
       "    <tr>\n",
       "      <th>2057</th>\n",
       "      <td>Commercial</td>\n",
       "      <td>False</td>\n",
       "      <td>True</td>\n",
       "      <td>False</td>\n",
       "      <td>False</td>\n",
       "    </tr>\n",
       "    <tr>\n",
       "      <th>2058</th>\n",
       "      <td>Commercial</td>\n",
       "      <td>False</td>\n",
       "      <td>True</td>\n",
       "      <td>False</td>\n",
       "      <td>False</td>\n",
       "    </tr>\n",
       "    <tr>\n",
       "      <th>2059</th>\n",
       "      <td>Government</td>\n",
       "      <td>False</td>\n",
       "      <td>False</td>\n",
       "      <td>False</td>\n",
       "      <td>True</td>\n",
       "    </tr>\n",
       "    <tr>\n",
       "      <th>2060</th>\n",
       "      <td>Government</td>\n",
       "      <td>False</td>\n",
       "      <td>False</td>\n",
       "      <td>False</td>\n",
       "      <td>True</td>\n",
       "    </tr>\n",
       "    <tr>\n",
       "      <th>2061</th>\n",
       "      <td>Government</td>\n",
       "      <td>False</td>\n",
       "      <td>False</td>\n",
       "      <td>False</td>\n",
       "      <td>True</td>\n",
       "    </tr>\n",
       "  </tbody>\n",
       "</table>\n",
       "</div>"
      ],
      "text/plain": [
       "                      Users  Civil_user  Commercial_user  Military_user  \\\n",
       "2042               Military       False            False           True   \n",
       "2043             Commercial       False             True          False   \n",
       "2044               Military       False            False           True   \n",
       "2045    Military/Government       False            False           True   \n",
       "2046  Government/Commercial       False             True          False   \n",
       "2047  Government/Commercial       False             True          False   \n",
       "2048  Government/Commercial       False             True          False   \n",
       "2049  Government/Commercial       False             True          False   \n",
       "2050             Government       False            False          False   \n",
       "2051  Government/Commercial       False             True          False   \n",
       "2052             Commercial       False             True          False   \n",
       "2053             Commercial       False             True          False   \n",
       "2054             Commercial       False             True          False   \n",
       "2055             Commercial       False             True          False   \n",
       "2056             Commercial       False             True          False   \n",
       "2057             Commercial       False             True          False   \n",
       "2058             Commercial       False             True          False   \n",
       "2059             Government       False            False          False   \n",
       "2060             Government       False            False          False   \n",
       "2061             Government       False            False          False   \n",
       "\n",
       "      Government_user  \n",
       "2042            False  \n",
       "2043            False  \n",
       "2044            False  \n",
       "2045             True  \n",
       "2046             True  \n",
       "2047             True  \n",
       "2048             True  \n",
       "2049             True  \n",
       "2050             True  \n",
       "2051             True  \n",
       "2052            False  \n",
       "2053            False  \n",
       "2054            False  \n",
       "2055            False  \n",
       "2056            False  \n",
       "2057            False  \n",
       "2058            False  \n",
       "2059             True  \n",
       "2060             True  \n",
       "2061             True  "
      ]
     },
     "execution_count": 11,
     "metadata": {},
     "output_type": "execute_result"
    }
   ],
   "source": [
    "df[['Users']].join(df.iloc[:, -4:]).tail(20)"
   ]
  },
  {
   "cell_type": "markdown",
   "metadata": {},
   "source": [
    "### Fix the Purpose Column"
   ]
  },
  {
   "cell_type": "code",
   "execution_count": 12,
   "metadata": {},
   "outputs": [
    {
     "data": {
      "text/plain": [
       "array(['Technology Development', 'Earth Observation', 'Communications',\n",
       "       'Technology Demonstration', 'Earth Science',\n",
       "       'Communications/Technology Development',\n",
       "       'Communications/Maritime Tracking', 'Space Science',\n",
       "       'Technlogy Development', 'Navigation/Global Positioning',\n",
       "       'Earth Science/Space Science',\n",
       "       'Earth Observation/Technology Development', 'Earth Observation ',\n",
       "       'Earth Observation/Communications', 'Space Observation',\n",
       "       'Educational', 'Technology Development/Education',\n",
       "       'Earth Observation/Earth Science',\n",
       "       'Earth Observation/Space Science', 'Communications/Navigation',\n",
       "       'Surveillance', 'Navigation/Regional Positioning',\n",
       "       'Space Science/Technology Development',\n",
       "       'Earth Science/Earth Observation',\n",
       "       'Earth Observation/Communications/Space Science',\n",
       "       'Technology Development/Educational'], dtype=object)"
      ]
     },
     "execution_count": 12,
     "metadata": {},
     "output_type": "execute_result"
    }
   ],
   "source": [
    "df.Purpose.unique()"
   ]
  },
  {
   "cell_type": "markdown",
   "metadata": {},
   "source": [
    "There is an extra space in one of the purposes, we can use .str.strip() to make that not a problem"
   ]
  },
  {
   "cell_type": "code",
   "execution_count": 207,
   "metadata": {},
   "outputs": [
    {
     "data": {
      "text/plain": [
       "array(['Technology Development', 'Earth Observation', 'Communications',\n",
       "       'Technology Demonstration', 'Earth Science', 'Maritime Tracking',\n",
       "       'Space Science', 'Technlogy Development', 'Navigation',\n",
       "       'Global Positioning', 'Space Observation', 'Educational',\n",
       "       'Education', 'Surveillance', 'Regional Positioning'], dtype=object)"
      ]
     },
     "execution_count": 207,
     "metadata": {},
     "output_type": "execute_result"
    }
   ],
   "source": [
    "purpose_cols = df.Purpose.str.strip().str.split(pat='/', n=0, expand=True).stack().unique()\n",
    "purpose_cols"
   ]
  },
  {
   "cell_type": "markdown",
   "metadata": {},
   "source": [
    "Note the mispelling of \"Technology Development.\" Human-labeled data woo! Push that col into the proper one"
   ]
  },
  {
   "cell_type": "code",
   "execution_count": 14,
   "metadata": {},
   "outputs": [
    {
     "data": {
      "text/plain": [
       "'Technlogy Development'"
      ]
     },
     "execution_count": 14,
     "metadata": {},
     "output_type": "execute_result"
    }
   ],
   "source": [
    "purpose_cols[7]"
   ]
  },
  {
   "cell_type": "code",
   "execution_count": 208,
   "metadata": {},
   "outputs": [
    {
     "data": {
      "text/html": [
       "<div>\n",
       "<style scoped>\n",
       "    .dataframe tbody tr th:only-of-type {\n",
       "        vertical-align: middle;\n",
       "    }\n",
       "\n",
       "    .dataframe tbody tr th {\n",
       "        vertical-align: top;\n",
       "    }\n",
       "\n",
       "    .dataframe thead th {\n",
       "        text-align: right;\n",
       "    }\n",
       "</style>\n",
       "<table border=\"1\" class=\"dataframe\">\n",
       "  <thead>\n",
       "    <tr style=\"text-align: right;\">\n",
       "      <th></th>\n",
       "      <th>Purpose</th>\n",
       "      <th>Technology Development</th>\n",
       "      <th>Earth Observation</th>\n",
       "      <th>Communications</th>\n",
       "      <th>Technology Demonstration</th>\n",
       "      <th>Earth Science</th>\n",
       "      <th>Maritime Tracking</th>\n",
       "      <th>Space Science</th>\n",
       "      <th>Technlogy Development</th>\n",
       "      <th>Navigation</th>\n",
       "      <th>Global Positioning</th>\n",
       "      <th>Space Observation</th>\n",
       "      <th>Educational</th>\n",
       "      <th>Education</th>\n",
       "      <th>Surveillance</th>\n",
       "      <th>Regional Positioning</th>\n",
       "    </tr>\n",
       "  </thead>\n",
       "  <tbody>\n",
       "    <tr>\n",
       "      <th>80</th>\n",
       "      <td>Communications/Maritime Tracking</td>\n",
       "      <td>False</td>\n",
       "      <td>False</td>\n",
       "      <td>True</td>\n",
       "      <td>False</td>\n",
       "      <td>False</td>\n",
       "      <td>True</td>\n",
       "      <td>False</td>\n",
       "      <td>False</td>\n",
       "      <td>False</td>\n",
       "      <td>False</td>\n",
       "      <td>False</td>\n",
       "      <td>False</td>\n",
       "      <td>False</td>\n",
       "      <td>False</td>\n",
       "      <td>False</td>\n",
       "    </tr>\n",
       "    <tr>\n",
       "      <th>81</th>\n",
       "      <td>Communications/Technology Development</td>\n",
       "      <td>True</td>\n",
       "      <td>False</td>\n",
       "      <td>True</td>\n",
       "      <td>False</td>\n",
       "      <td>False</td>\n",
       "      <td>False</td>\n",
       "      <td>False</td>\n",
       "      <td>False</td>\n",
       "      <td>False</td>\n",
       "      <td>False</td>\n",
       "      <td>False</td>\n",
       "      <td>False</td>\n",
       "      <td>False</td>\n",
       "      <td>False</td>\n",
       "      <td>False</td>\n",
       "    </tr>\n",
       "    <tr>\n",
       "      <th>82</th>\n",
       "      <td>Communications/Maritime Tracking</td>\n",
       "      <td>False</td>\n",
       "      <td>False</td>\n",
       "      <td>True</td>\n",
       "      <td>False</td>\n",
       "      <td>False</td>\n",
       "      <td>True</td>\n",
       "      <td>False</td>\n",
       "      <td>False</td>\n",
       "      <td>False</td>\n",
       "      <td>False</td>\n",
       "      <td>False</td>\n",
       "      <td>False</td>\n",
       "      <td>False</td>\n",
       "      <td>False</td>\n",
       "      <td>False</td>\n",
       "    </tr>\n",
       "    <tr>\n",
       "      <th>83</th>\n",
       "      <td>Communications/Maritime Tracking</td>\n",
       "      <td>False</td>\n",
       "      <td>False</td>\n",
       "      <td>True</td>\n",
       "      <td>False</td>\n",
       "      <td>False</td>\n",
       "      <td>True</td>\n",
       "      <td>False</td>\n",
       "      <td>False</td>\n",
       "      <td>False</td>\n",
       "      <td>False</td>\n",
       "      <td>False</td>\n",
       "      <td>False</td>\n",
       "      <td>False</td>\n",
       "      <td>False</td>\n",
       "      <td>False</td>\n",
       "    </tr>\n",
       "    <tr>\n",
       "      <th>84</th>\n",
       "      <td>Communications</td>\n",
       "      <td>False</td>\n",
       "      <td>False</td>\n",
       "      <td>True</td>\n",
       "      <td>False</td>\n",
       "      <td>False</td>\n",
       "      <td>False</td>\n",
       "      <td>False</td>\n",
       "      <td>False</td>\n",
       "      <td>False</td>\n",
       "      <td>False</td>\n",
       "      <td>False</td>\n",
       "      <td>False</td>\n",
       "      <td>False</td>\n",
       "      <td>False</td>\n",
       "      <td>False</td>\n",
       "    </tr>\n",
       "    <tr>\n",
       "      <th>85</th>\n",
       "      <td>Communications</td>\n",
       "      <td>False</td>\n",
       "      <td>False</td>\n",
       "      <td>True</td>\n",
       "      <td>False</td>\n",
       "      <td>False</td>\n",
       "      <td>False</td>\n",
       "      <td>False</td>\n",
       "      <td>False</td>\n",
       "      <td>False</td>\n",
       "      <td>False</td>\n",
       "      <td>False</td>\n",
       "      <td>False</td>\n",
       "      <td>False</td>\n",
       "      <td>False</td>\n",
       "      <td>False</td>\n",
       "    </tr>\n",
       "    <tr>\n",
       "      <th>86</th>\n",
       "      <td>Communications/Maritime Tracking</td>\n",
       "      <td>False</td>\n",
       "      <td>False</td>\n",
       "      <td>True</td>\n",
       "      <td>False</td>\n",
       "      <td>False</td>\n",
       "      <td>True</td>\n",
       "      <td>False</td>\n",
       "      <td>False</td>\n",
       "      <td>False</td>\n",
       "      <td>False</td>\n",
       "      <td>False</td>\n",
       "      <td>False</td>\n",
       "      <td>False</td>\n",
       "      <td>False</td>\n",
       "      <td>False</td>\n",
       "    </tr>\n",
       "    <tr>\n",
       "      <th>87</th>\n",
       "      <td>Communications/Maritime Tracking</td>\n",
       "      <td>False</td>\n",
       "      <td>False</td>\n",
       "      <td>True</td>\n",
       "      <td>False</td>\n",
       "      <td>False</td>\n",
       "      <td>True</td>\n",
       "      <td>False</td>\n",
       "      <td>False</td>\n",
       "      <td>False</td>\n",
       "      <td>False</td>\n",
       "      <td>False</td>\n",
       "      <td>False</td>\n",
       "      <td>False</td>\n",
       "      <td>False</td>\n",
       "      <td>False</td>\n",
       "    </tr>\n",
       "    <tr>\n",
       "      <th>88</th>\n",
       "      <td>Communications</td>\n",
       "      <td>False</td>\n",
       "      <td>False</td>\n",
       "      <td>True</td>\n",
       "      <td>False</td>\n",
       "      <td>False</td>\n",
       "      <td>False</td>\n",
       "      <td>False</td>\n",
       "      <td>False</td>\n",
       "      <td>False</td>\n",
       "      <td>False</td>\n",
       "      <td>False</td>\n",
       "      <td>False</td>\n",
       "      <td>False</td>\n",
       "      <td>False</td>\n",
       "      <td>False</td>\n",
       "    </tr>\n",
       "    <tr>\n",
       "      <th>89</th>\n",
       "      <td>Communications</td>\n",
       "      <td>False</td>\n",
       "      <td>False</td>\n",
       "      <td>True</td>\n",
       "      <td>False</td>\n",
       "      <td>False</td>\n",
       "      <td>False</td>\n",
       "      <td>False</td>\n",
       "      <td>False</td>\n",
       "      <td>False</td>\n",
       "      <td>False</td>\n",
       "      <td>False</td>\n",
       "      <td>False</td>\n",
       "      <td>False</td>\n",
       "      <td>False</td>\n",
       "      <td>False</td>\n",
       "    </tr>\n",
       "  </tbody>\n",
       "</table>\n",
       "</div>"
      ],
      "text/plain": [
       "                                  Purpose  Technology Development  \\\n",
       "80       Communications/Maritime Tracking                   False   \n",
       "81  Communications/Technology Development                    True   \n",
       "82       Communications/Maritime Tracking                   False   \n",
       "83       Communications/Maritime Tracking                   False   \n",
       "84                         Communications                   False   \n",
       "85                         Communications                   False   \n",
       "86       Communications/Maritime Tracking                   False   \n",
       "87       Communications/Maritime Tracking                   False   \n",
       "88                         Communications                   False   \n",
       "89                         Communications                   False   \n",
       "\n",
       "    Earth Observation  Communications  Technology Demonstration  \\\n",
       "80              False            True                     False   \n",
       "81              False            True                     False   \n",
       "82              False            True                     False   \n",
       "83              False            True                     False   \n",
       "84              False            True                     False   \n",
       "85              False            True                     False   \n",
       "86              False            True                     False   \n",
       "87              False            True                     False   \n",
       "88              False            True                     False   \n",
       "89              False            True                     False   \n",
       "\n",
       "    Earth Science  Maritime Tracking  Space Science  Technlogy Development  \\\n",
       "80          False               True          False                  False   \n",
       "81          False              False          False                  False   \n",
       "82          False               True          False                  False   \n",
       "83          False               True          False                  False   \n",
       "84          False              False          False                  False   \n",
       "85          False              False          False                  False   \n",
       "86          False               True          False                  False   \n",
       "87          False               True          False                  False   \n",
       "88          False              False          False                  False   \n",
       "89          False              False          False                  False   \n",
       "\n",
       "    Navigation  Global Positioning  Space Observation  Educational  Education  \\\n",
       "80       False               False              False        False      False   \n",
       "81       False               False              False        False      False   \n",
       "82       False               False              False        False      False   \n",
       "83       False               False              False        False      False   \n",
       "84       False               False              False        False      False   \n",
       "85       False               False              False        False      False   \n",
       "86       False               False              False        False      False   \n",
       "87       False               False              False        False      False   \n",
       "88       False               False              False        False      False   \n",
       "89       False               False              False        False      False   \n",
       "\n",
       "    Surveillance  Regional Positioning  \n",
       "80         False                 False  \n",
       "81         False                 False  \n",
       "82         False                 False  \n",
       "83         False                 False  \n",
       "84         False                 False  \n",
       "85         False                 False  \n",
       "86         False                 False  \n",
       "87         False                 False  \n",
       "88         False                 False  \n",
       "89         False                 False  "
      ]
     },
     "execution_count": 208,
     "metadata": {},
     "output_type": "execute_result"
    }
   ],
   "source": [
    "for purpose_col in purpose_cols:\n",
    "    df.loc[:, purpose_col] = df.loc[:, \"Purpose\"].str.contains(purpose_col)\n",
    "    \n",
    "df[[\"Purpose\"]].join(df[purpose_cols])[80:90]"
   ]
  },
  {
   "cell_type": "markdown",
   "metadata": {},
   "source": [
    "Fix the spelling error"
   ]
  },
  {
   "cell_type": "code",
   "execution_count": 209,
   "metadata": {},
   "outputs": [
    {
     "data": {
      "text/html": [
       "<div>\n",
       "<style scoped>\n",
       "    .dataframe tbody tr th:only-of-type {\n",
       "        vertical-align: middle;\n",
       "    }\n",
       "\n",
       "    .dataframe tbody tr th {\n",
       "        vertical-align: top;\n",
       "    }\n",
       "\n",
       "    .dataframe thead th {\n",
       "        text-align: right;\n",
       "    }\n",
       "</style>\n",
       "<table border=\"1\" class=\"dataframe\">\n",
       "  <thead>\n",
       "    <tr style=\"text-align: right;\">\n",
       "      <th></th>\n",
       "      <th>Technology Development</th>\n",
       "      <th>Technlogy Development</th>\n",
       "    </tr>\n",
       "  </thead>\n",
       "  <tbody>\n",
       "    <tr>\n",
       "      <th>131</th>\n",
       "      <td>False</td>\n",
       "      <td>True</td>\n",
       "    </tr>\n",
       "  </tbody>\n",
       "</table>\n",
       "</div>"
      ],
      "text/plain": [
       "     Technology Development  Technlogy Development\n",
       "131                   False                   True"
      ]
     },
     "execution_count": 209,
     "metadata": {},
     "output_type": "execute_result"
    }
   ],
   "source": [
    "df[[\"Technology Development\", \"Technlogy Development\"]][df[\"Technlogy Development\"]]"
   ]
  },
  {
   "cell_type": "code",
   "execution_count": 210,
   "metadata": {},
   "outputs": [
    {
     "data": {
      "text/html": [
       "<div>\n",
       "<style scoped>\n",
       "    .dataframe tbody tr th:only-of-type {\n",
       "        vertical-align: middle;\n",
       "    }\n",
       "\n",
       "    .dataframe tbody tr th {\n",
       "        vertical-align: top;\n",
       "    }\n",
       "\n",
       "    .dataframe thead th {\n",
       "        text-align: right;\n",
       "    }\n",
       "</style>\n",
       "<table border=\"1\" class=\"dataframe\">\n",
       "  <thead>\n",
       "    <tr style=\"text-align: right;\">\n",
       "      <th></th>\n",
       "      <th>Technology Development</th>\n",
       "      <th>Technlogy Development</th>\n",
       "    </tr>\n",
       "  </thead>\n",
       "  <tbody>\n",
       "    <tr>\n",
       "      <th>131</th>\n",
       "      <td>True</td>\n",
       "      <td>True</td>\n",
       "    </tr>\n",
       "  </tbody>\n",
       "</table>\n",
       "</div>"
      ],
      "text/plain": [
       "     Technology Development  Technlogy Development\n",
       "131                    True                   True"
      ]
     },
     "execution_count": 210,
     "metadata": {},
     "output_type": "execute_result"
    }
   ],
   "source": [
    "df.loc[:, \"Technology Development\"] = (df[\"Technology Development\"] | df[\"Technlogy Development\"])\n",
    "df[[\"Technology Development\", \"Technlogy Development\"]][df[\"Technlogy Development\"]]"
   ]
  },
  {
   "cell_type": "markdown",
   "metadata": {},
   "source": [
    "Remove that misspelled column from the data and the list of purpose columns"
   ]
  },
  {
   "cell_type": "code",
   "execution_count": 211,
   "metadata": {},
   "outputs": [],
   "source": [
    "df = df.drop(labels=\"Technlogy Development\", axis='columns')\n",
    "purpose_cols = np.delete(purpose_cols, np.where(purpose_cols == \"Technlogy Development\"))"
   ]
  },
  {
   "cell_type": "markdown",
   "metadata": {},
   "source": [
    "## Exploratory Data Analysis\n",
    "\n",
    "Let's remind ourselves of what we are looking at"
   ]
  },
  {
   "cell_type": "code",
   "execution_count": 212,
   "metadata": {},
   "outputs": [
    {
     "data": {
      "text/html": [
       "<div>\n",
       "<style scoped>\n",
       "    .dataframe tbody tr th:only-of-type {\n",
       "        vertical-align: middle;\n",
       "    }\n",
       "\n",
       "    .dataframe tbody tr th {\n",
       "        vertical-align: top;\n",
       "    }\n",
       "\n",
       "    .dataframe thead th {\n",
       "        text-align: right;\n",
       "    }\n",
       "</style>\n",
       "<table border=\"1\" class=\"dataframe\">\n",
       "  <thead>\n",
       "    <tr style=\"text-align: right;\">\n",
       "      <th></th>\n",
       "      <th>Name of Satellite, Alternate Names</th>\n",
       "      <th>Country/Org of UN Registry</th>\n",
       "      <th>Country of Operator/Owner</th>\n",
       "      <th>Operator/Owner</th>\n",
       "      <th>Users</th>\n",
       "      <th>Purpose</th>\n",
       "      <th>Detailed Purpose</th>\n",
       "      <th>Class of Orbit</th>\n",
       "      <th>Type of Orbit</th>\n",
       "      <th>Longitude of GEO (degrees)</th>\n",
       "      <th>...</th>\n",
       "      <th>Maritime Tracking</th>\n",
       "      <th>Space Science</th>\n",
       "      <th>Navigation</th>\n",
       "      <th>Global Positioning</th>\n",
       "      <th>Earth Observation</th>\n",
       "      <th>Space Observation</th>\n",
       "      <th>Educational</th>\n",
       "      <th>Education</th>\n",
       "      <th>Surveillance</th>\n",
       "      <th>Regional Positioning</th>\n",
       "    </tr>\n",
       "  </thead>\n",
       "  <tbody>\n",
       "    <tr>\n",
       "      <th>0</th>\n",
       "      <td>3Cat-1</td>\n",
       "      <td>NR (11/18)</td>\n",
       "      <td>Spain</td>\n",
       "      <td>Universitat Politècnica de Catalunya</td>\n",
       "      <td>Civil</td>\n",
       "      <td>Technology Development</td>\n",
       "      <td>NaN</td>\n",
       "      <td>LEO</td>\n",
       "      <td>NaN</td>\n",
       "      <td>0.0</td>\n",
       "      <td>...</td>\n",
       "      <td>False</td>\n",
       "      <td>False</td>\n",
       "      <td>False</td>\n",
       "      <td>False</td>\n",
       "      <td>False</td>\n",
       "      <td>False</td>\n",
       "      <td>False</td>\n",
       "      <td>False</td>\n",
       "      <td>False</td>\n",
       "      <td>False</td>\n",
       "    </tr>\n",
       "    <tr>\n",
       "      <th>1</th>\n",
       "      <td>Aalto-1</td>\n",
       "      <td>Finland</td>\n",
       "      <td>Finland</td>\n",
       "      <td>University of Aalto</td>\n",
       "      <td>Civil</td>\n",
       "      <td>Technology Development</td>\n",
       "      <td>NaN</td>\n",
       "      <td>LEO</td>\n",
       "      <td>NaN</td>\n",
       "      <td>0.0</td>\n",
       "      <td>...</td>\n",
       "      <td>False</td>\n",
       "      <td>False</td>\n",
       "      <td>False</td>\n",
       "      <td>False</td>\n",
       "      <td>False</td>\n",
       "      <td>False</td>\n",
       "      <td>False</td>\n",
       "      <td>False</td>\n",
       "      <td>False</td>\n",
       "      <td>False</td>\n",
       "    </tr>\n",
       "    <tr>\n",
       "      <th>2</th>\n",
       "      <td>AAUSat-4</td>\n",
       "      <td>Denmark</td>\n",
       "      <td>Denmark</td>\n",
       "      <td>University of Aalborg</td>\n",
       "      <td>Civil</td>\n",
       "      <td>Earth Observation</td>\n",
       "      <td>Automatic Identification System (AIS)</td>\n",
       "      <td>LEO</td>\n",
       "      <td>Sun-Synchronous</td>\n",
       "      <td>0.0</td>\n",
       "      <td>...</td>\n",
       "      <td>False</td>\n",
       "      <td>False</td>\n",
       "      <td>False</td>\n",
       "      <td>False</td>\n",
       "      <td>False</td>\n",
       "      <td>False</td>\n",
       "      <td>False</td>\n",
       "      <td>False</td>\n",
       "      <td>False</td>\n",
       "      <td>False</td>\n",
       "    </tr>\n",
       "    <tr>\n",
       "      <th>3</th>\n",
       "      <td>ABS-2 (Koreasat-8, ST-3)</td>\n",
       "      <td>NR</td>\n",
       "      <td>Multinational</td>\n",
       "      <td>Asia Broadcast Satellite Ltd.</td>\n",
       "      <td>Commercial</td>\n",
       "      <td>Communications</td>\n",
       "      <td>NaN</td>\n",
       "      <td>GEO</td>\n",
       "      <td>NaN</td>\n",
       "      <td>75.0</td>\n",
       "      <td>...</td>\n",
       "      <td>False</td>\n",
       "      <td>False</td>\n",
       "      <td>False</td>\n",
       "      <td>False</td>\n",
       "      <td>False</td>\n",
       "      <td>False</td>\n",
       "      <td>False</td>\n",
       "      <td>False</td>\n",
       "      <td>False</td>\n",
       "      <td>False</td>\n",
       "    </tr>\n",
       "    <tr>\n",
       "      <th>4</th>\n",
       "      <td>ABS-2A</td>\n",
       "      <td>NR</td>\n",
       "      <td>Multinational</td>\n",
       "      <td>Asia Broadcast Satellite Ltd.</td>\n",
       "      <td>Commercial</td>\n",
       "      <td>Communications</td>\n",
       "      <td>NaN</td>\n",
       "      <td>GEO</td>\n",
       "      <td>NaN</td>\n",
       "      <td>-75.0</td>\n",
       "      <td>...</td>\n",
       "      <td>False</td>\n",
       "      <td>False</td>\n",
       "      <td>False</td>\n",
       "      <td>False</td>\n",
       "      <td>False</td>\n",
       "      <td>False</td>\n",
       "      <td>False</td>\n",
       "      <td>False</td>\n",
       "      <td>False</td>\n",
       "      <td>False</td>\n",
       "    </tr>\n",
       "  </tbody>\n",
       "</table>\n",
       "<p>5 rows × 58 columns</p>\n",
       "</div>"
      ],
      "text/plain": [
       "  Name of Satellite, Alternate Names Country/Org of UN Registry  \\\n",
       "0                             3Cat-1                 NR (11/18)   \n",
       "1                           Aalto-1                     Finland   \n",
       "2                           AAUSat-4                    Denmark   \n",
       "3           ABS-2 (Koreasat-8, ST-3)                         NR   \n",
       "4                             ABS-2A                         NR   \n",
       "\n",
       "  Country of Operator/Owner                        Operator/Owner       Users  \\\n",
       "0                     Spain  Universitat Politècnica de Catalunya       Civil   \n",
       "1                   Finland                   University of Aalto       Civil   \n",
       "2                   Denmark                 University of Aalborg       Civil   \n",
       "3             Multinational         Asia Broadcast Satellite Ltd.  Commercial   \n",
       "4             Multinational         Asia Broadcast Satellite Ltd.  Commercial   \n",
       "\n",
       "                  Purpose                       Detailed Purpose  \\\n",
       "0  Technology Development                                    NaN   \n",
       "1  Technology Development                                    NaN   \n",
       "2       Earth Observation  Automatic Identification System (AIS)   \n",
       "3          Communications                                    NaN   \n",
       "4          Communications                                    NaN   \n",
       "\n",
       "  Class of Orbit    Type of Orbit  Longitude of GEO (degrees)  ...  \\\n",
       "0            LEO              NaN                         0.0  ...   \n",
       "1            LEO              NaN                         0.0  ...   \n",
       "2            LEO  Sun-Synchronous                         0.0  ...   \n",
       "3            GEO              NaN                        75.0  ...   \n",
       "4            GEO              NaN                       -75.0  ...   \n",
       "\n",
       "   Maritime Tracking  Space Science  Navigation  Global Positioning  \\\n",
       "0              False          False       False               False   \n",
       "1              False          False       False               False   \n",
       "2              False          False       False               False   \n",
       "3              False          False       False               False   \n",
       "4              False          False       False               False   \n",
       "\n",
       "   Earth Observation   Space Observation Educational Education Surveillance  \\\n",
       "0               False              False       False     False        False   \n",
       "1               False              False       False     False        False   \n",
       "2               False              False       False     False        False   \n",
       "3               False              False       False     False        False   \n",
       "4               False              False       False     False        False   \n",
       "\n",
       "   Regional Positioning  \n",
       "0                 False  \n",
       "1                 False  \n",
       "2                 False  \n",
       "3                 False  \n",
       "4                 False  \n",
       "\n",
       "[5 rows x 58 columns]"
      ]
     },
     "execution_count": 212,
     "metadata": {},
     "output_type": "execute_result"
    }
   ],
   "source": [
    "df.head()"
   ]
  },
  {
   "cell_type": "code",
   "execution_count": 213,
   "metadata": {},
   "outputs": [
    {
     "data": {
      "text/plain": [
       "Index(['Name of Satellite, Alternate Names', 'Country/Org of UN Registry',\n",
       "       'Country of Operator/Owner', 'Operator/Owner', 'Users', 'Purpose',\n",
       "       'Detailed Purpose', 'Class of Orbit', 'Type of Orbit',\n",
       "       'Longitude of GEO (degrees)', 'Perigee (km)', 'Apogee (km)',\n",
       "       'Eccentricity', 'Inclination (degrees)', 'Period (minutes)',\n",
       "       'Launch Mass (kg.)', 'Dry Mass (kg.)', 'Power (watts)',\n",
       "       'Date of Launch', 'Expected Lifetime (yrs.)', 'Contractor',\n",
       "       'Country of Contractor', 'Launch Site', 'Launch Vehicle',\n",
       "       'COSPAR Number', 'NORAD Number', 'Comments', 'Unnamed: 27',\n",
       "       'Source Used for Orbital Data', 'Source', 'Source.1', 'Source.2',\n",
       "       'Source.3', 'Source.4', 'Source.5', 'Unnamed: 58', 'Unnamed: 59',\n",
       "       'Unnamed: 60', 'Unnamed: 64', 'Civil_user', 'Commercial_user',\n",
       "       'Military_user', 'Government_user', 'Technology Development',\n",
       "       'Earth Observation', 'Communications', 'Technology Demonstration',\n",
       "       'Earth Science', 'Maritime Tracking', 'Space Science', 'Navigation',\n",
       "       'Global Positioning', 'Earth Observation ', 'Space Observation',\n",
       "       'Educational', 'Education', 'Surveillance', 'Regional Positioning'],\n",
       "      dtype='object')"
      ]
     },
     "execution_count": 213,
     "metadata": {},
     "output_type": "execute_result"
    }
   ],
   "source": [
    "df.columns"
   ]
  },
  {
   "cell_type": "code",
   "execution_count": 214,
   "metadata": {},
   "outputs": [],
   "source": [
    "# Generic barh plot function\n",
    "def plot_barh(df, ycol, title, limit=-1, figsize=(8,6)):\n",
    "    _ = plt.figure(figsize=figsize)\n",
    "    _ = df[ycol].value_counts()[:limit].plot(kind='barh')\n",
    "    _ = plt.xlabel(\"Number of Satellites\")\n",
    "    _ = plt.title(title)\n",
    "    return _"
   ]
  },
  {
   "cell_type": "markdown",
   "metadata": {},
   "source": [
    "How many satellites serve similar purposes?"
   ]
  },
  {
   "cell_type": "code",
   "execution_count": 215,
   "metadata": {},
   "outputs": [
    {
     "data": {
      "image/png": "[encoded data removed]",
      "text/plain": [
       "<Figure size 576x432 with 1 Axes>"
      ]
     },
     "metadata": {
      "needs_background": "light"
     },
     "output_type": "display_data"
    }
   ],
   "source": [
    "_ = plot_barh(df, \"Purpose\", \"Satellite Purposes\")"
   ]
  },
  {
   "cell_type": "markdown",
   "metadata": {},
   "source": [
    "Who has the most?\n",
    "\n",
    "With 99 entries, this may be difficult to visualize. Let's do the top 20."
   ]
  },
  {
   "cell_type": "code",
   "execution_count": 216,
   "metadata": {},
   "outputs": [
    {
     "data": {
      "text/plain": [
       "USA                 883\n",
       "China               296\n",
       "Russia              150\n",
       "Japan                79\n",
       "Multinational        63\n",
       "                   ... \n",
       "Iraq                  1\n",
       "USA/Canada/Japan      1\n",
       "Austria               1\n",
       "Peru                  1\n",
       "France/USA            1\n",
       "Name: Country of Operator/Owner, Length: 99, dtype: int64"
      ]
     },
     "execution_count": 216,
     "metadata": {},
     "output_type": "execute_result"
    }
   ],
   "source": [
    "df[\"Country of Operator/Owner\"].value_counts()"
   ]
  },
  {
   "cell_type": "code",
   "execution_count": 217,
   "metadata": {},
   "outputs": [
    {
     "data": {
      "image/png": "[encoded data removed]",
      "text/plain": [
       "<Figure size 576x432 with 1 Axes>"
      ]
     },
     "metadata": {
      "needs_background": "light"
     },
     "output_type": "display_data"
    }
   ],
   "source": [
    "_ = plot_barh(df, \"Country of Operator/Owner\", \"Satellite Ownership\", 20)"
   ]
  },
  {
   "cell_type": "markdown",
   "metadata": {},
   "source": [
    "Who are the users?\n",
    "\n",
    "That data formatting is annoying. They are just supersets of each other. Think about how to fix that."
   ]
  },
  {
   "cell_type": "code",
   "execution_count": 218,
   "metadata": {},
   "outputs": [
    {
     "data": {
      "image/png": "[encoded data removed]",
      "text/plain": [
       "<Figure size 576x432 with 1 Axes>"
      ]
     },
     "metadata": {
      "needs_background": "light"
     },
     "output_type": "display_data"
    }
   ],
   "source": [
    "#_ = df[\"Users\"].value_counts().plot(kind='barh')\n",
    "_ = plot_barh(df, \"Users\", \"Satellite Users\")"
   ]
  },
  {
   "cell_type": "code",
   "execution_count": 219,
   "metadata": {},
   "outputs": [
    {
     "data": {
      "image/png": "[encoded data removed]",
      "text/plain": [
       "<Figure size 576x432 with 1 Axes>"
      ]
     },
     "metadata": {
      "needs_background": "light"
     },
     "output_type": "display_data"
    }
   ],
   "source": [
    "_ = plot_barh(df, \"Class of Orbit\", \"Satellite Orbit Classes\")"
   ]
  },
  {
   "cell_type": "code",
   "execution_count": 220,
   "metadata": {},
   "outputs": [
    {
     "data": {
      "image/png": "[encoded data removed]",
      "text/plain": [
       "<Figure size 576x432 with 1 Axes>"
      ]
     },
     "metadata": {
      "needs_background": "light"
     },
     "output_type": "display_data"
    }
   ],
   "source": [
    "_ = plot_barh(df, \"Type of Orbit\", \"Satellite Orbit Types\")"
   ]
  },
  {
   "cell_type": "markdown",
   "metadata": {},
   "source": [
    "### Some 2D Plots"
   ]
  },
  {
   "cell_type": "code",
   "execution_count": 221,
   "metadata": {},
   "outputs": [
    {
     "data": {
      "image/png": "[encoded data removed]",
      "text/plain": [
       "<Figure size 432x288 with 1 Axes>"
      ]
     },
     "metadata": {
      "needs_background": "light"
     },
     "output_type": "display_data"
    }
   ],
   "source": [
    "_ = df[[\"Apogee (km)\", \"Perigee (km)\"]].plot(x='Apogee (km)', y='Perigee (km)', kind='scatter')\n",
    "_ = plt.title('Satellite Orbits')"
   ]
  },
  {
   "cell_type": "markdown",
   "metadata": {},
   "source": [
    "How long do satellites last?"
   ]
  },
  {
   "cell_type": "code",
   "execution_count": 222,
   "metadata": {},
   "outputs": [
    {
     "data": {
      "image/png": "[encoded data removed]",
      "text/plain": [
       "<Figure size 432x288 with 1 Axes>"
      ]
     },
     "metadata": {
      "needs_background": "light"
     },
     "output_type": "display_data"
    }
   ],
   "source": [
    "_ = df[\"Expected Lifetime (yrs.)\"].plot.hist(bins=20)\n",
    "_ = plt.xlabel(\"Expected Lifetime (yrs.)\")\n",
    "_ = plt.title(\"Expected Satellite Lifetimes\")"
   ]
  },
  {
   "cell_type": "markdown",
   "metadata": {},
   "source": [
    "Okay, but I want this in terms of when they were launched. This will require me to add together the launch date and the expected lifetime."
   ]
  },
  {
   "cell_type": "code",
   "execution_count": 223,
   "metadata": {},
   "outputs": [
    {
     "name": "stderr",
     "output_type": "stream",
     "text": [
      "/srv/conda/envs/notebook/lib/python3.7/site-packages/pandas/util/_decorators.py:208: FutureWarning: M and Y units are deprecated and will be removed in a future version.\n",
      "  return func(*args, **kwargs)\n"
     ]
    },
    {
     "data": {
      "text/html": [
       "<div>\n",
       "<style scoped>\n",
       "    .dataframe tbody tr th:only-of-type {\n",
       "        vertical-align: middle;\n",
       "    }\n",
       "\n",
       "    .dataframe tbody tr th {\n",
       "        vertical-align: top;\n",
       "    }\n",
       "\n",
       "    .dataframe thead th {\n",
       "        text-align: right;\n",
       "    }\n",
       "</style>\n",
       "<table border=\"1\" class=\"dataframe\">\n",
       "  <thead>\n",
       "    <tr style=\"text-align: right;\">\n",
       "      <th></th>\n",
       "      <th>Date of Launch</th>\n",
       "      <th>Expected Lifetime (yrs.)</th>\n",
       "      <th>Expected End of Life</th>\n",
       "    </tr>\n",
       "  </thead>\n",
       "  <tbody>\n",
       "    <tr>\n",
       "      <th>1</th>\n",
       "      <td>2017-06-23</td>\n",
       "      <td>2.0</td>\n",
       "      <td>2019-06-23 11:38:24</td>\n",
       "    </tr>\n",
       "    <tr>\n",
       "      <th>3</th>\n",
       "      <td>2014-02-06</td>\n",
       "      <td>15.0</td>\n",
       "      <td>2029-02-05 15:18:00</td>\n",
       "    </tr>\n",
       "    <tr>\n",
       "      <th>4</th>\n",
       "      <td>2016-06-15</td>\n",
       "      <td>15.0</td>\n",
       "      <td>2031-06-15 15:18:00</td>\n",
       "    </tr>\n",
       "    <tr>\n",
       "      <th>5</th>\n",
       "      <td>2015-03-02</td>\n",
       "      <td>15.0</td>\n",
       "      <td>2030-03-01 15:18:00</td>\n",
       "    </tr>\n",
       "    <tr>\n",
       "      <th>6</th>\n",
       "      <td>2004-03-13</td>\n",
       "      <td>12.0</td>\n",
       "      <td>2016-03-12 21:50:24</td>\n",
       "    </tr>\n",
       "  </tbody>\n",
       "</table>\n",
       "</div>"
      ],
      "text/plain": [
       "  Date of Launch  Expected Lifetime (yrs.) Expected End of Life\n",
       "1     2017-06-23                       2.0  2019-06-23 11:38:24\n",
       "3     2014-02-06                      15.0  2029-02-05 15:18:00\n",
       "4     2016-06-15                      15.0  2031-06-15 15:18:00\n",
       "5     2015-03-02                      15.0  2030-03-01 15:18:00\n",
       "6     2004-03-13                      12.0  2016-03-12 21:50:24"
      ]
     },
     "execution_count": 223,
     "metadata": {},
     "output_type": "execute_result"
    }
   ],
   "source": [
    "satellite_life_df = df[[\"Date of Launch\", \"Expected Lifetime (yrs.)\"]].join(\n",
    "    pd.Series(df[\"Date of Launch\"] + pd.to_timedelta(df[\"Expected Lifetime (yrs.)\"], unit='Y'),\n",
    "              name=\"Expected End of Life\")).dropna()\n",
    "satellite_life_df.head()"
   ]
  },
  {
   "cell_type": "markdown",
   "metadata": {},
   "source": [
    "Okay, let's plot launch date vs end of life date.\n",
    "\n",
    "I like the line structure of this plot."
   ]
  },
  {
   "cell_type": "code",
   "execution_count": 224,
   "metadata": {},
   "outputs": [
    {
     "data": {
      "image/png": "[encoded data removed]",
      "text/plain": [
       "<Figure size 432x288 with 1 Axes>"
      ]
     },
     "metadata": {
      "needs_background": "light"
     },
     "output_type": "display_data"
    }
   ],
   "source": [
    "today = pd.to_datetime(datetime.date.today())\n",
    "today_x = pd.date_range(df[\"Date of Launch\"].min(), df[\"Date of Launch\"].max(), periods=10)\n",
    "today_y = pd.date_range(datetime.date.today(), datetime.date.today(), periods=10)\n",
    "\n",
    "_ = satellite_life_df.set_index(\"Date of Launch\").plot(y=\"Expected End of Life\", style=\".\", label=\"Satellite Data\")\n",
    "_ = plt.ylabel(\"Expected End of Life\")\n",
    "_ = plt.plot(today_x, today_y, 'r--', label=\"Today\")\n",
    "_ = plt.legend()\n",
    "_ = plt.title(\"Satellite Lifetime Expectations\")"
   ]
  },
  {
   "cell_type": "markdown",
   "metadata": {},
   "source": [
    "This plot shows satellite end-of-lifetime as a function of when they were launched. The red line shows today. Every point above the red line is a satellite that should still be working. Every plot below the red line is a satellite that we believe no longer works. Right?"
   ]
  },
  {
   "cell_type": "code",
   "execution_count": 225,
   "metadata": {},
   "outputs": [
    {
     "name": "stdout",
     "output_type": "stream",
     "text": [
      "Number of satellites in the database: 2062\n",
      "Number of satellites with lifetime predictions: 1124\n",
      "Number of satellites that should still be working: 643\n",
      "Number of satellites that should no longer be working: 481\n"
     ]
    }
   ],
   "source": [
    "print(\"Number of satellites in the database: %d\" % len(df))\n",
    "print(\"Number of satellites with lifetime predictions: %d\" % len(satellite_life_df))\n",
    "print(\"Number of satellites that should still be working: %d\" %\n",
    "     len(satellite_life_df[satellite_life_df[\"Expected End of Life\"] > today]))\n",
    "print(\"Number of satellites that should no longer be working: %d\" %\n",
    "     len(satellite_life_df[satellite_life_df[\"Expected End of Life\"] < today]))"
   ]
  },
  {
   "cell_type": "markdown",
   "metadata": {},
   "source": [
    "Check Users more closely"
   ]
  },
  {
   "cell_type": "code",
   "execution_count": 226,
   "metadata": {},
   "outputs": [
    {
     "data": {
      "image/png": "[encoded data removed]",
      "text/plain": [
       "<Figure size 432x288 with 1 Axes>"
      ]
     },
     "metadata": {
      "needs_background": "light"
     },
     "output_type": "display_data"
    }
   ],
   "source": [
    "_ = df[user_col_names].sum().sort_values(ascending=False).plot(kind='barh')\n",
    "_ = plt.xlabel('Number of Users')\n",
    "_ = plt.title('User Types (Some Overlap)')"
   ]
  },
  {
   "cell_type": "markdown",
   "metadata": {},
   "source": [
    "Check Purposes more closely"
   ]
  },
  {
   "cell_type": "code",
   "execution_count": 227,
   "metadata": {},
   "outputs": [
    {
     "data": {
      "image/png": "[encoded data removed]",
      "text/plain": [
       "<Figure size 432x288 with 1 Axes>"
      ]
     },
     "metadata": {
      "needs_background": "light"
     },
     "output_type": "display_data"
    }
   ],
   "source": [
    "_ = df[purpose_cols].sum().sort_values(ascending=False).plot(kind=\"barh\")\n",
    "_ = plt.xlabel(\"Number of Satellites\")\n",
    "_ = plt.title(\"Satellite Purposes\")"
   ]
  },
  {
   "cell_type": "markdown",
   "metadata": {},
   "source": [
    "### Reproducing More Advanced Plots\n",
    "\n",
    "Satellites Launched By User with dotted lines at the space ages of 1991 and 2012? Stacked and Filled line plot\n",
    "\n",
    "Satellites Launched By Purpose, stacked bar graph"
   ]
  },
  {
   "cell_type": "code",
   "execution_count": 228,
   "metadata": {},
   "outputs": [
    {
     "data": {
      "text/html": [
       "<div>\n",
       "<style scoped>\n",
       "    .dataframe tbody tr th:only-of-type {\n",
       "        vertical-align: middle;\n",
       "    }\n",
       "\n",
       "    .dataframe tbody tr th {\n",
       "        vertical-align: top;\n",
       "    }\n",
       "\n",
       "    .dataframe thead th {\n",
       "        text-align: right;\n",
       "    }\n",
       "</style>\n",
       "<table border=\"1\" class=\"dataframe\">\n",
       "  <thead>\n",
       "    <tr style=\"text-align: right;\">\n",
       "      <th></th>\n",
       "      <th>Name of Satellite, Alternate Names</th>\n",
       "      <th>Country/Org of UN Registry</th>\n",
       "      <th>Country of Operator/Owner</th>\n",
       "      <th>Operator/Owner</th>\n",
       "      <th>Users</th>\n",
       "      <th>Purpose</th>\n",
       "      <th>Detailed Purpose</th>\n",
       "      <th>Class of Orbit</th>\n",
       "      <th>Type of Orbit</th>\n",
       "      <th>Longitude of GEO (degrees)</th>\n",
       "      <th>...</th>\n",
       "      <th>Maritime Tracking</th>\n",
       "      <th>Space Science</th>\n",
       "      <th>Navigation</th>\n",
       "      <th>Global Positioning</th>\n",
       "      <th>Earth Observation</th>\n",
       "      <th>Space Observation</th>\n",
       "      <th>Educational</th>\n",
       "      <th>Education</th>\n",
       "      <th>Surveillance</th>\n",
       "      <th>Regional Positioning</th>\n",
       "    </tr>\n",
       "    <tr>\n",
       "      <th>Date of Launch</th>\n",
       "      <th></th>\n",
       "      <th></th>\n",
       "      <th></th>\n",
       "      <th></th>\n",
       "      <th></th>\n",
       "      <th></th>\n",
       "      <th></th>\n",
       "      <th></th>\n",
       "      <th></th>\n",
       "      <th></th>\n",
       "      <th></th>\n",
       "      <th></th>\n",
       "      <th></th>\n",
       "      <th></th>\n",
       "      <th></th>\n",
       "      <th></th>\n",
       "      <th></th>\n",
       "      <th></th>\n",
       "      <th></th>\n",
       "      <th></th>\n",
       "      <th></th>\n",
       "    </tr>\n",
       "  </thead>\n",
       "  <tbody>\n",
       "    <tr>\n",
       "      <th>1974-11-15</th>\n",
       "      <td>Amsat-Oscar 7 (AO-7)</td>\n",
       "      <td>USA</td>\n",
       "      <td>USA</td>\n",
       "      <td>AMSAT-NA</td>\n",
       "      <td>Civil</td>\n",
       "      <td>Communications</td>\n",
       "      <td>NaN</td>\n",
       "      <td>LEO</td>\n",
       "      <td>Polar</td>\n",
       "      <td>0.0</td>\n",
       "      <td>...</td>\n",
       "      <td>False</td>\n",
       "      <td>False</td>\n",
       "      <td>False</td>\n",
       "      <td>False</td>\n",
       "      <td>False</td>\n",
       "      <td>False</td>\n",
       "      <td>False</td>\n",
       "      <td>False</td>\n",
       "      <td>False</td>\n",
       "      <td>False</td>\n",
       "    </tr>\n",
       "    <tr>\n",
       "      <th>1988-09-29</th>\n",
       "      <td>TDRS-3 (Tracking and Data Relay Satellite, TDR...</td>\n",
       "      <td>USA</td>\n",
       "      <td>USA</td>\n",
       "      <td>National Aeronautics and Space Administration ...</td>\n",
       "      <td>Government</td>\n",
       "      <td>Communications</td>\n",
       "      <td>NaN</td>\n",
       "      <td>GEO</td>\n",
       "      <td>NaN</td>\n",
       "      <td>84.4</td>\n",
       "      <td>...</td>\n",
       "      <td>False</td>\n",
       "      <td>False</td>\n",
       "      <td>False</td>\n",
       "      <td>False</td>\n",
       "      <td>False</td>\n",
       "      <td>False</td>\n",
       "      <td>False</td>\n",
       "      <td>False</td>\n",
       "      <td>False</td>\n",
       "      <td>False</td>\n",
       "    </tr>\n",
       "    <tr>\n",
       "      <th>1989-09-25</th>\n",
       "      <td>FLTSATCOM-8 (USA 46)</td>\n",
       "      <td>USA</td>\n",
       "      <td>USA</td>\n",
       "      <td>US Navy</td>\n",
       "      <td>Military</td>\n",
       "      <td>Communications</td>\n",
       "      <td>NaN</td>\n",
       "      <td>GEO</td>\n",
       "      <td>NaN</td>\n",
       "      <td>-14.7</td>\n",
       "      <td>...</td>\n",
       "      <td>False</td>\n",
       "      <td>False</td>\n",
       "      <td>False</td>\n",
       "      <td>False</td>\n",
       "      <td>False</td>\n",
       "      <td>False</td>\n",
       "      <td>False</td>\n",
       "      <td>False</td>\n",
       "      <td>False</td>\n",
       "      <td>False</td>\n",
       "    </tr>\n",
       "    <tr>\n",
       "      <th>1990-04-25</th>\n",
       "      <td>Hubble Space Telescope (HST, Space Telescope)</td>\n",
       "      <td>USA</td>\n",
       "      <td>ESA/USA</td>\n",
       "      <td>European Space Agency (ESA)/NASA</td>\n",
       "      <td>Government</td>\n",
       "      <td>Space Science</td>\n",
       "      <td>NaN</td>\n",
       "      <td>LEO</td>\n",
       "      <td>Non-Polar Inclined</td>\n",
       "      <td>0.0</td>\n",
       "      <td>...</td>\n",
       "      <td>False</td>\n",
       "      <td>True</td>\n",
       "      <td>False</td>\n",
       "      <td>False</td>\n",
       "      <td>False</td>\n",
       "      <td>False</td>\n",
       "      <td>False</td>\n",
       "      <td>False</td>\n",
       "      <td>False</td>\n",
       "      <td>False</td>\n",
       "    </tr>\n",
       "    <tr>\n",
       "      <th>1990-08-30</th>\n",
       "      <td>Skynet 4C</td>\n",
       "      <td>United Kingdom</td>\n",
       "      <td>United Kingdom</td>\n",
       "      <td>Intelsat/Paradigm Secure Communications (wholl...</td>\n",
       "      <td>Military</td>\n",
       "      <td>Communications</td>\n",
       "      <td>NaN</td>\n",
       "      <td>GEO</td>\n",
       "      <td>NaN</td>\n",
       "      <td>-1.3</td>\n",
       "      <td>...</td>\n",
       "      <td>False</td>\n",
       "      <td>False</td>\n",
       "      <td>False</td>\n",
       "      <td>False</td>\n",
       "      <td>False</td>\n",
       "      <td>False</td>\n",
       "      <td>False</td>\n",
       "      <td>False</td>\n",
       "      <td>False</td>\n",
       "      <td>False</td>\n",
       "    </tr>\n",
       "  </tbody>\n",
       "</table>\n",
       "<p>5 rows × 57 columns</p>\n",
       "</div>"
      ],
      "text/plain": [
       "                               Name of Satellite, Alternate Names  \\\n",
       "Date of Launch                                                      \n",
       "1974-11-15                                   Amsat-Oscar 7 (AO-7)   \n",
       "1988-09-29      TDRS-3 (Tracking and Data Relay Satellite, TDR...   \n",
       "1989-09-25                                   FLTSATCOM-8 (USA 46)   \n",
       "1990-04-25          Hubble Space Telescope (HST, Space Telescope)   \n",
       "1990-08-30                                             Skynet 4C    \n",
       "\n",
       "               Country/Org of UN Registry Country of Operator/Owner  \\\n",
       "Date of Launch                                                        \n",
       "1974-11-15                            USA                       USA   \n",
       "1988-09-29                            USA                       USA   \n",
       "1989-09-25                            USA                       USA   \n",
       "1990-04-25                            USA                   ESA/USA   \n",
       "1990-08-30                 United Kingdom            United Kingdom   \n",
       "\n",
       "                                                   Operator/Owner       Users  \\\n",
       "Date of Launch                                                                  \n",
       "1974-11-15                                               AMSAT-NA       Civil   \n",
       "1988-09-29      National Aeronautics and Space Administration ...  Government   \n",
       "1989-09-25                                                US Navy    Military   \n",
       "1990-04-25                       European Space Agency (ESA)/NASA  Government   \n",
       "1990-08-30      Intelsat/Paradigm Secure Communications (wholl...    Military   \n",
       "\n",
       "                       Purpose Detailed Purpose Class of Orbit  \\\n",
       "Date of Launch                                                   \n",
       "1974-11-15      Communications              NaN            LEO   \n",
       "1988-09-29      Communications              NaN            GEO   \n",
       "1989-09-25      Communications              NaN            GEO   \n",
       "1990-04-25       Space Science              NaN            LEO   \n",
       "1990-08-30      Communications              NaN            GEO   \n",
       "\n",
       "                     Type of Orbit  Longitude of GEO (degrees)  ...  \\\n",
       "Date of Launch                                                  ...   \n",
       "1974-11-15                   Polar                         0.0  ...   \n",
       "1988-09-29                     NaN                        84.4  ...   \n",
       "1989-09-25                     NaN                       -14.7  ...   \n",
       "1990-04-25      Non-Polar Inclined                         0.0  ...   \n",
       "1990-08-30                     NaN                        -1.3  ...   \n",
       "\n",
       "                Maritime Tracking  Space Science  Navigation  \\\n",
       "Date of Launch                                                 \n",
       "1974-11-15                  False          False       False   \n",
       "1988-09-29                  False          False       False   \n",
       "1989-09-25                  False          False       False   \n",
       "1990-04-25                  False           True       False   \n",
       "1990-08-30                  False          False       False   \n",
       "\n",
       "                Global Positioning  Earth Observation   Space Observation  \\\n",
       "Date of Launch                                                              \n",
       "1974-11-15                   False               False              False   \n",
       "1988-09-29                   False               False              False   \n",
       "1989-09-25                   False               False              False   \n",
       "1990-04-25                   False               False              False   \n",
       "1990-08-30                   False               False              False   \n",
       "\n",
       "               Educational Education  Surveillance Regional Positioning  \n",
       "Date of Launch                                                           \n",
       "1974-11-15           False     False         False                False  \n",
       "1988-09-29           False     False         False                False  \n",
       "1989-09-25           False     False         False                False  \n",
       "1990-04-25           False     False         False                False  \n",
       "1990-08-30           False     False         False                False  \n",
       "\n",
       "[5 rows x 57 columns]"
      ]
     },
     "execution_count": 228,
     "metadata": {},
     "output_type": "execute_result"
    }
   ],
   "source": [
    "df_by_launch_date = df.set_index(\"Date of Launch\").sort_index()\n",
    "df_by_launch_date.head()"
   ]
  },
  {
   "cell_type": "code",
   "execution_count": 229,
   "metadata": {},
   "outputs": [
    {
     "data": {
      "text/plain": [
       "pandas.core.indexes.datetimes.DatetimeIndex"
      ]
     },
     "execution_count": 229,
     "metadata": {},
     "output_type": "execute_result"
    }
   ],
   "source": [
    "type(df_by_launch_date.index)"
   ]
  },
  {
   "cell_type": "code",
   "execution_count": 230,
   "metadata": {},
   "outputs": [
    {
     "data": {
      "image/png": "[encoded data removed]",
      "text/plain": [
       "<Figure size 432x288 with 1 Axes>"
      ]
     },
     "metadata": {
      "needs_background": "light"
     },
     "output_type": "display_data"
    }
   ],
   "source": [
    "# Plot Data\n",
    "_ = df_by_launch_date.resample('A').sum()[user_col_names].plot(kind='area')\n",
    "_.legend([\"Civil\", \"Commercial\", \"Military\", \"Government\"])\n",
    "\n",
    "# Plot Space Age Lines\n",
    "_ = plt.axvline(pd.to_datetime('1990-12-31'), color='k', linestyle='--')\n",
    "_ = plt.axvline(pd.to_datetime('2011-12-31'), color='k', linestyle='--')\n",
    "\n",
    "# Plot Annotations\n",
    "_ = plt.annotate('First Space Age', (7, 200))\n",
    "_ = plt.annotate('Second Space Age', (25, 200))\n",
    "\n",
    "# Axis Label and Title\n",
    "_ = plt.ylabel(\"# of Satellites Launched\")\n",
    "_ = plt.title(\"Satellites Launched Over Time by User\")"
   ]
  },
  {
   "cell_type": "markdown",
   "metadata": {},
   "source": [
    "Weird. If you specify kind='bar' vs kind='line', the default format for the date labels changes.\n",
    "\n",
    "Ahhh, plotting as a bar chart changes the xvalues from dates to floats: https://stackoverflow.com/questions/19410617/unable-to-adjust-x-axis-dateformat-in-pandas-bar-chart"
   ]
  },
  {
   "cell_type": "code",
   "execution_count": 231,
   "metadata": {},
   "outputs": [
    {
     "data": {
      "image/png": "[encoded data removed]",
      "text/plain": [
       "<Figure size 432x288 with 1 Axes>"
      ]
     },
     "metadata": {
      "needs_background": "light"
     },
     "output_type": "display_data"
    }
   ],
   "source": [
    "_ = df_by_launch_date.resample('A').sum()[purpose_cols].plot(kind='line', stacked=True)\n",
    "_ = plt.legend(bbox_to_anchor=(1, 1))"
   ]
  },
  {
   "cell_type": "code",
   "execution_count": 232,
   "metadata": {},
   "outputs": [
    {
     "data": {
      "image/png": "[encoded data removed]",
      "text/plain": [
       "<Figure size 432x288 with 1 Axes>"
      ]
     },
     "metadata": {
      "needs_background": "light"
     },
     "output_type": "display_data"
    }
   ],
   "source": [
    "_ = df_by_launch_date.resample('A').sum()[purpose_cols].plot(kind='bar', stacked=True)\n",
    "_ = plt.legend(bbox_to_anchor=(1, 1))"
   ]
  },
  {
   "cell_type": "markdown",
   "metadata": {},
   "source": [
    "Okay let's make the real plot"
   ]
  },
  {
   "cell_type": "code",
   "execution_count": 233,
   "metadata": {},
   "outputs": [
    {
     "data": {
      "image/png": "[encoded data removed]",
      "text/plain": [
       "<Figure size 432x288 with 1 Axes>"
      ]
     },
     "metadata": {
      "needs_background": "light"
     },
     "output_type": "display_data"
    }
   ],
   "source": [
    "# Set up Figure\n",
    "# Need this so that we can finagle some formatting\n",
    "fig, ax = plt.subplots()\n",
    "_ = df_by_launch_date.resample('2A').sum()[purpose_cols].plot(kind='bar', stacked=True, ax=ax)\n",
    "_ = plt.legend(bbox_to_anchor=(1, 1.03))\n",
    "\n",
    "# Set the axis labels to be just years\n",
    "ax.set_xticklabels([dt.strftime('%Y') for dt in df_by_launch_date.resample('2A').sum().index],\n",
    "                   rotation=45)\n",
    "\n",
    "# Axis labels and title\n",
    "_ = plt.xlabel('Launch Year (rounded)')\n",
    "_ = plt.ylabel('Number of Satellites')\n",
    "_ = plt.title('Satellite Launches by Application')\n",
    "\n",
    "plt.show()"
   ]
  },
  {
   "cell_type": "markdown",
   "metadata": {},
   "source": [
    "Let's make a version with only recent data"
   ]
  },
  {
   "cell_type": "code",
   "execution_count": 237,
   "metadata": {},
   "outputs": [
    {
     "data": {
      "image/png": "[encoded data removed]",
      "text/plain": [
       "<Figure size 432x288 with 1 Axes>"
      ]
     },
     "metadata": {
      "needs_background": "light"
     },
     "output_type": "display_data"
    }
   ],
   "source": [
    "# Set up Figure\n",
    "# Need this so that we can finagle some formatting\n",
    "fig, ax = plt.subplots()\n",
    "_ = df_by_launch_date.loc['2000':].resample('A').sum()[purpose_cols].plot(kind='bar', \n",
    "                                                                          stacked=True, \n",
    "                                                                          ax=ax,\n",
    "                                                                          colormap='tab20')\n",
    "_ = plt.legend(bbox_to_anchor=(1, 1.03))\n",
    "\n",
    "# Set the axis labels to be just years\n",
    "ax.set_xticklabels([dt.strftime('%Y') for dt in df_by_launch_date.loc['2000':].resample('A').sum().index],\n",
    "                   rotation=45)\n",
    "\n",
    "# Axis labels and title\n",
    "_ = plt.xlabel('Launch Year (rounded)')\n",
    "_ = plt.ylabel('Number of Satellites')\n",
    "_ = plt.title('Satellite Launches by Application')\n",
    "\n",
    "plt.show()"
   ]
  },
  {
   "cell_type": "code",
   "execution_count": null,
   "metadata": {},
   "outputs": [],
   "source": []
  },
  {
   "cell_type": "code",
   "execution_count": null,
   "metadata": {},
   "outputs": [],
   "source": []
  },
  {
   "cell_type": "code",
   "execution_count": null,
   "metadata": {},
   "outputs": [],
   "source": []
  }
 ],
 "metadata": {
  "kernelspec": {
   "display_name": "Python 3",
   "language": "python",
   "name": "python3"
  },
  "language_info": {
   "codemirror_mode": {
    "name": "ipython",
    "version": 3
   },
   "file_extension": ".py",
   "mimetype": "text/x-python",
   "name": "python",
   "nbconvert_exporter": "python",
   "pygments_lexer": "ipython3",
   "version": "3.7.3"
  }
 },
 "nbformat": 4,
 "nbformat_minor": 4
}
